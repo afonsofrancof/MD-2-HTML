{
 "cells": [
  {
   "cell_type": "markdown",
   "metadata": {},
   "source": [
    "# Notation\n",
    "\n",
    "## Text Styling\n",
    "\n",
    "### Italic\n",
    "    //abc//, will produce _abc_\n",
    "### Bold\n",
    "    **abc**, will produce __abc__\n",
    "### Underline\n",
    "    __abc__, will produce \n",
    "\n",
    "## Headers \n",
    "   \\# Header level 1\n",
    "   \\#\\# Header level 2\n",
    "   \\#\\#\\# Header level 3\n",
    "   \\#\\#\\#\\# Header level 4\n",
    "\n",
    "## Lists\n",
    "\n",
    "### Not-Numbered\n",
    "    \n",
    "### Numbered\n",
    "\n",
    "### Dictionary Entry type beat"
   ]
  }
 ],
 "metadata": {
  "language_info": {
   "name": "python"
  },
  "orig_nbformat": 4
 },
 "nbformat": 4,
 "nbformat_minor": 2
}
